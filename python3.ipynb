{
 "cells": [
  {
   "cell_type": "code",
   "execution_count": null,
   "id": "2eae907d-ed20-46e2-a7f6-7f62d97f99a4",
   "metadata": {},
   "outputs": [],
   "source": [
    "#To find the which of them are values or an expressions\n",
    "\"\"\"values\n",
    "1.string('hello')\n",
    "2.float(-87.8)\n",
    "3.int(6)\"\"\"\n",
    "\"\"\"expressions\n",
    "1.(-) subtraction operator\n",
    "2.(/) division operator\n",
    "3.(+) addition operator\n",
    "4.(*) multiplication operator\"\"\""
   ]
  },
  {
   "cell_type": "code",
   "execution_count": null,
   "id": "e7ec5b35-846d-42b5-8148-2b841a523fbf",
   "metadata": {},
   "outputs": [],
   "source": [
    "#what is the difference between string and variable?\n",
    "#1.string is used for store the character value e.g.str='hello world'\n",
    "#2. variable is used to store the value define in porgram e.g.num=1 so num is variable here\n"
   ]
  },
  {
   "cell_type": "code",
   "execution_count": null,
   "id": "3a872294-714f-41d2-bb15-230772b4708d",
   "metadata": {},
   "outputs": [],
   "source": [
    "#describe three data types\n",
    "# 1.(float) is used for storing the decimal value e.g.num=82.8\n",
    "#2.(int) is used for storing the integer value e.g. num=8\n",
    "# 3. (string) is used for storing the character value e.g.str='aman'"
   ]
  },
  {
   "cell_type": "code",
   "execution_count": null,
   "id": "c3290980-28c2-403c-8532-ac5c2928623b",
   "metadata": {},
   "outputs": [],
   "source": [
    "# what is an expression made up of? what all do expressions do?\n",
    "#1.Expression is combination of funcation, operators and variable which can help us to solve the probelm\n",
    "\"\"\"expressions perform the operation to calculate the values it included \n",
    "1. Operator\n",
    "2.vairables\n",
    "3.functions\"\"\""
   ]
  },
  {
   "cell_type": "code",
   "execution_count": null,
   "id": "30e716a8-3b2b-4837-9d4c-b8bed064b81b",
   "metadata": {},
   "outputs": [],
   "source": [
    "# whatt is an expression made up of ? what do all expressions do?\n",
    "\"\"\"statement:\n",
    "a statement is a completer instructions to run a command and values. it may be or not produce the output\n",
    "2.statement contain expressions e.g. num=x+10 here botjh left and right side are expressions which both combine to make a statement\"\"\"\n",
    "\"\"\"expressions:\n",
    "An expression contain values like operator, varibale, function which helps to produce a value  \"\"\""
   ]
  },
  {
   "cell_type": "code",
   "execution_count": null,
   "id": "0e6e7643-749e-4252-a66b-209d7fb1ea30",
   "metadata": {},
   "outputs": [],
   "source": [
    "# After running the following code\n",
    "\"\"\"bacon=22\n",
    "bacon+1\n",
    "bacon contain value 22 because in above expression bacon value cannot assigned\"\"\"\n"
   ]
  },
  {
   "cell_type": "code",
   "execution_count": null,
   "id": "31a96ceb-23ab-4b55-bbd3-1523111e7ee8",
   "metadata": {},
   "outputs": [],
   "source": [
    "#vlaues of the following two terms are\n",
    "\"\"\"'spam'+'spamspam' these values are added and give result 'spamspamspa' because both values are string and in python same types of data added\"\"\"\n",
    "\"\"\" 'spam'*3 \n",
    "this expression show error because a string cannot multiple with integer for solving the expression we have to convert 3 into string alos e.g.'spam'+str(3)\"\"\""
   ]
  },
  {
   "cell_type": "code",
   "execution_count": null,
   "id": "70a34b51-b37f-4a41-924e-df2384d02a5a",
   "metadata": {},
   "outputs": [],
   "source": [
    "#why is eggs a valid variable name while 100 in invalid?\n",
    "\"\"\" because we cannot define a variable name start with interger,keywords, special character, and whitespaces the values can be defined started with underscor(_) and a word\"\"\""
   ]
  },
  {
   "cell_type": "code",
   "execution_count": null,
   "id": "75f54479-9dd6-49ce-bf8b-fc13859bfa99",
   "metadata": {},
   "outputs": [],
   "source": [
    "# three functions to get the interger, floating-point number, or string version are:\n",
    "\"\"\" 1. for converting into float num e.g. float(num)\n",
    "2. for converting into integer num e.g. int(num)\n",
    "3. for converting a value into string number e.g. str(num)\"\"\""
   ]
  },
  {
   "cell_type": "code",
   "execution_count": null,
   "id": "87531a2d-2cf9-4fe7-affa-67d518a2b633",
   "metadata": {},
   "outputs": [],
   "source": [
    "# 'I have eaten'+99+'buritos'\n",
    "\"\"\" this expression cause an error because in this expression there are two string literals and one integer so we cannot add a string with an integer\n",
    "2. for solving this error we have write this porgram in that type 'I have eaten'+str(99)+'buritos'\"\"\""
   ]
  }
 ],
 "metadata": {
  "kernelspec": {
   "display_name": "Python 3 (ipykernel)",
   "language": "python",
   "name": "python3"
  },
  "language_info": {
   "codemirror_mode": {
    "name": "ipython",
    "version": 3
   },
   "file_extension": ".py",
   "mimetype": "text/x-python",
   "name": "python",
   "nbconvert_exporter": "python",
   "pygments_lexer": "ipython3",
   "version": "3.13.5"
  }
 },
 "nbformat": 4,
 "nbformat_minor": 5
}
